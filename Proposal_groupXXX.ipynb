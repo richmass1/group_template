{
 "cells": [
  {
   "cell_type": "markdown",
   "metadata": {},
   "source": [
    "# COGS 118B - Project Proposal"
   ]
  },
  {
   "cell_type": "markdown",
   "metadata": {},
   "source": [
    "# Names\n",
    "\n",
    "Hopefully your team is at least this good. Obviously you should replace these with your names.\n",
    "\n",
    "- Zixian Cai\n",
    "- Richard Masser-Frye\n",
    "- Vinuthna Hasthi\n",
    "- Pranav Nair\n",
    "- Jesus Tello"
   ]
  },
  {
   "cell_type": "markdown",
   "metadata": {},
   "source": [
    "# Abstract \n",
    "\n",
    "How does a recipe define a food item? What makes a cake a cake? In this project, we seek to cluster recipes based on their ingredients and other variables, and determine whether a machine learning model can distinguish recipes with regard to the type of food item that the recipe is supposed to describe. To narrow the scope of the problem, we will be focusing on baked goods, and attempting to cluster the data by type of baked good (e.g. cakes, cookies, muffins, etc). The data we will be using is a set of recipes, with each recipe including a title, set of ingredients (with associated quantities), and set of instructions. Data will be extracted from the ingredients and instructions, and will be fed into a gaussian mixture model (GMM) or other clustering scheme. We will measure success via the efficacy of the clustering algorithms and their accuracy when it comes to separating the recipes into the correct category."
   ]
  },
  {
   "cell_type": "markdown",
   "metadata": {},
   "source": [
    "# Background\n",
    "\n",
    "Broadly, recipes are sets of instructions for the purpose of preparing specific dishes. They generally include some information about the dish, the ingredients used in making the dish, and how to assemble or process those ingredients. In particular, baked goods are dishes (such as cookies, cakes, etc) that contain flour as a primary ingredient and involve combining ingredients to make a batter which is placed into an oven to bake. The consistency of the baked good generally depends on the proportions of flour, egg, sugar, butter, and baking powder used in the batter, and on how long and at what temperature it is baked.\n",
    "\n",
    "Recipe datasets have previously been used in machine learning research. Often, the research is not particularly focused on recipes, but uses them for their advantageous qualities (most recipes share a similar structure, they can be easily scraped from websites, they can't be copyrighted, etc). For example, a 2017 paper by Yang et al.<a name=\"yang\"></a>[<sup>[1]</sup>](#yangnote) used machine learning to analyze \"reference expressions\" (phrases that refer to previously mentioned objects in a text) and employed instructions from recipes as an example of this. Other published works are more explicitly food-focused; Herranz et al.<a name=\"herranz\"></a>[<sup>[2]</sup>](#herranznote) provides an overview of techniques that can be applied to recipes, ingredient lists, and even images of food. The paper associated with the RecipeNLG dataset by Bien et al.<a name=\"recipenlg\"></a>[<sup>[3]</sup>](#recipenlgnote) also provides an overview of previous efforts in machine learning on recipes, including the two aforementioned papers.\n"
   ]
  },
  {
   "cell_type": "markdown",
   "metadata": {},
   "source": [
    "# Problem Statement\n",
    "\n",
    "The problem at hand is the categorization of baked-goods recipes based on their ingredients and instructions. Though they are not explicitly numerical, these attributes have aspects that can be abstracted into numbers; specifically, the quantities of each ingredient, their ratios to each other, and the temperature and duration of baking. Each recipe can thus be expressed as a vector, and clustering techniques (such as GMM or hierarchical clustering) can be applied to the dataset to sort the recipes into groups. We can measure the success of the clustering by comparing the predicted labels to the true labels found in the original dataset. "
   ]
  },
  {
   "cell_type": "markdown",
   "metadata": {},
   "source": [
    "# Data\n",
    "\n",
    "### link/reference to obtain it\n",
    "\n",
    "https://kaggle.com/datasets/paultimothymooney/recipenlg\n",
    "\n",
    "### description of the size of the dataset (# of variables, # of observations)\n",
    "\n",
    "The total size of the dataset is 2,231,141 recipes. We'll be using a subset consisting of specific recipes for types of baked goods; one possible subset would be recipes for cakes, cookies, and muffins, and between the three of those there are 237,715 recipes in the dataset. Variables we can use are quantities of flour, milk, sugar, egg, butter/oil, and baking powder; these quantities could be absolute or relative (to the quantity of flour, e.g.). We could also use baking temperature and baking duration as additional variables. We should have at least 7 variables to work with.\n",
    "\n",
    "### what an observation consists of\n",
    "\n",
    "One recipe is one observation, and consists of the aforementioned data along with a true label that can be used to evaluate the clustering.\n",
    "\n",
    "### what some critical variables are, how they are represented\n",
    "\n",
    "The ingredient quantity variables can be represented as absolute quantities (e.g. grams/cups/teaspoons) or proportions to the amount of flour (unitless, assuming that that quantity is expressed in the same unit as flour). Temperature can be measured in degrees fahrenheit or centigrade, and baking duration will be measured in minutes.\n",
    "\n",
    "### any special handling, transformations, cleaning, etc will be needed\n",
    "\n",
    "Ingredient lists are currently stored as lists of strings, so those will need to be processed to obtain quantities of ingredients as numbers. If ingredient quantities are listed in different units (e.g. cups, grams), we will need to make sure that we pay attention to which units are being used and convert all quantities of a particular ingredient to the same unit (same for temperature). Baking temperature and duration will have to be extracted from recipe instructions, which are also stored as lists of strings. This part might be difficult and may even require rejecting recipes for which we can’t easily extract this information."
   ]
  },
  {
   "cell_type": "markdown",
   "metadata": {},
   "source": [
    "# Proposed Solution\n",
    "\n",
    "In this section, clearly describe a solution to the problem. The solution should be applicable to the project domain and appropriate for the dataset(s) or input(s) given. Provide enough detail (e.g., algorithmic description and/or theoretical properties) to convince us that your solution is applicable. Why might your solution work? Make sure to describe how the solution will be tested.  \n",
    "\n",
    "If you know details already, describe how (e.g., library used, function calls) you plan to implement the solution in a way that is reproducible.\n",
    "\n",
    "If it is appropriate to the problem statement, describe a benchmark model<a name=\"sota\"></a>[<sup>[3]</sup>](#sotanote) against which your solution will be compared. "
   ]
  },
  {
   "cell_type": "markdown",
   "metadata": {},
   "source": [
    "# Evaluation Metrics\n",
    "\n",
    "Propose at least one evaluation metric that can be used to quantify the performance of both the benchmark model and the solution model. The evaluation metric(s) you propose should be appropriate given the context of the data, the problem statement, and the intended solution. Describe how the evaluation metric(s) are derived and provide an example of their mathematical representations (if applicable). Complex evaluation metrics should be clearly defined and quantifiable (can be expressed in mathematical or logical terms)."
   ]
  },
  {
   "cell_type": "markdown",
   "metadata": {},
   "source": [
    "# Ethics & Privacy"
   ]
  },
  {
   "cell_type": "markdown",
   "metadata": {},
   "source": [
    "For the most part, we believe we will not run into any ethics or privacy issues. We acknowledge potential ethical concerns with the cultural sensitivities associated with foods. When it comes to the ethical concerns of data privacy, we will ensure that we will not breach any privacy rules or laws when it comes to personal recipes. The data used in our analysis will strictly be obtained from publicly available sources, and in doing so, private recipes will not be breached. Overall, our team will address any emerging issue or concerns when it comes to ethics and privacy. We will adapt our project if we see any unethical behavior done by our team, algorithm, or data."
   ]
  },
  {
   "cell_type": "markdown",
   "metadata": {},
   "source": [
    "# Team Expectations "
   ]
  },
  {
   "cell_type": "markdown",
   "metadata": {},
   "source": [
    "- Show up to group meetings, contributing as much as you can\n",
    "- Always keep due dates in mind to complete the tasks in a timely manner\n",
    "- Check group chat messages regularly to ensure we don’t miss anything\n",
    "- If a problem arises, bring up the matter promptly\n",
    "- If you’re stuck on something, talk with the group about it and/or go to office hours"
   ]
  },
  {
   "cell_type": "markdown",
   "metadata": {},
   "source": [
    "# Project Timeline Proposal"
   ]
  },
  {
   "cell_type": "markdown",
   "metadata": {},
   "source": [
    "| Meeting Date  | Meeting Time| Completed Before Meeting  | Discuss at Meeting |\n",
    "|---|---|---|---|\n",
    "| 2/12  |  6 PM |  Brainstorm ideas for project  | Decide on which idea we want to go with, discuss datasets | \n",
    "| 2/20 | 6 PM | Complete proposal; Search for more datasets if needed | Think about what to do with data, begin thinking about how to clean the data, how to use clustering techniques on the data |\n",
    "| 3/1 | TBD | Understand what we need to do with the data | Review data, complete the code necessary to produce clusters |\n",
    "| 3/10 | TBD | Have all data cleaned and clustered, ready for analysis and conclusions | Begin analysis, discussing conclusions that can be drawn from data. Completing all sections that show results. | \n",
    "| 3/20 | TBD | Complete analysis, results, conclusion, and discussion | Discuss finishing touches. Turn in Final Project & Group Project Surveys |"
   ]
  },
  {
   "cell_type": "markdown",
   "metadata": {},
   "source": [
    "# Footnotes\n",
    "<a name=\"yangnote\"></a>1.[^](#yang): Zichao Yang, Phil Blunsom, Chris Dyer, and Wang Ling. (9 Aug 2017) Reference-Aware Language Models. https://arxiv.org/pdf/1611.01628.pdf<br> \n",
    "\n",
    "<a name=\"herranznote\"></a>2.[^](#herranz): Luis Herranz, Weiqing Min and Shuqiang Jiang. (22 Jan 2018) Food recognition and recipe analysis: integrating visual content, context and external knowledge. https://arxiv.org/pdf/1801.07239.pdf<br> \n",
    "\n",
    "<a name=\"recipenlgnote\"></a>3.[^](#recipenlg): Michał Bień, Michał Gilski, Martyna Maciejewska, Wojciech Taisner, Dawid Wisniewski, and Agnieszka Lawrynowicz. (Dec 2020) RecipeNLG: A Cooking Recipes Dataset for Semi-Structured Text Generation. https://aclanthology.org/2020.inlg-1.4/<br> "
   ]
  }
 ],
 "metadata": {
  "kernelspec": {
   "display_name": "Python 3 (ipykernel)",
   "language": "python",
   "name": "python3"
  },
  "language_info": {
   "codemirror_mode": {
    "name": "ipython",
    "version": 3
   },
   "file_extension": ".py",
   "mimetype": "text/x-python",
   "name": "python",
   "nbconvert_exporter": "python",
   "pygments_lexer": "ipython3",
   "version": "3.10.11"
  }
 },
 "nbformat": 4,
 "nbformat_minor": 2
}
