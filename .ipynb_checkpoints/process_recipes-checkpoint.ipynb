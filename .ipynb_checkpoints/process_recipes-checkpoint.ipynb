{
 "cells": [
  {
   "cell_type": "markdown",
   "id": "1a434534",
   "metadata": {},
   "source": [
    "## Extract `RecipeNLG_bg_only.csv` from zip file before running this code\n",
    "\n",
    "Place it in the same directory as this notebook."
   ]
  },
  {
   "cell_type": "code",
   "execution_count": 33,
   "id": "c17b4b28",
   "metadata": {},
   "outputs": [],
   "source": [
    "import pandas as pd\n",
    "import re\n",
    "DATA_FILE = 'RecipeNLG_bg_only.csv'\n",
    "\n",
    "# ingredients that will be quantified\n",
    "QUANTIFIED_INGREDIENTS = {'egg': 0,\n",
    "                          'flour': 0, \n",
    "                          'sugar': 0, \n",
    "                          'butter': 0, \n",
    "                          'vanilla extract': 0, \n",
    "                          'milk': 0, \n",
    "                          'evaporated milk': 0, \n",
    "                          'condensed milk': 0, \n",
    "                          'shortening': 0}\n",
    "\n",
    "SYNONYMS = set(['margarine', 'oleo', 'crisco'])\n",
    "\n",
    "# regex objects\n",
    "re_cup = re.compile('^([0-9\\/ ]*[0-9]) c(?:ups?)?\\.? ', flags=re.IGNORECASE)\n",
    "re_tbsp = re.compile('^([0-9\\/ ]*[0-9]) tbsps?\\.? ', flags=re.IGNORECASE)\n",
    "re_tsp = re.compile('^([0-9\\/ ]*[0-9]) tsps?\\.? ', flags=re.IGNORECASE)\n",
    "re_lb = re.compile('^([0-9\\/ ]*[0-9]) (?:pound|lb)s?\\.? ', flags=re.IGNORECASE)\n",
    "re_g = re.compile('^([0-9\\/ ]*[0-9]) g(?:ram)?s?\\.? ', flags=re.IGNORECASE)\n",
    "re_oz = re.compile('^([0-9\\/ ]*[0-9]) o(?:z|unces?)\\.? ', flags=re.IGNORECASE)\n",
    "re_stick = re.compile('^([0-9\\/ ]*[0-9]) sticks? ', flags=re.IGNORECASE)\n",
    "\n",
    "re_egg = re.compile('([0-9\\/ ]*[0-9]) (?:[abd-z\\.]* )?egg', flags=re.IGNORECASE)\n",
    "re_egg_beaters = re.compile('^([0-9\\/ ]*[0-9]) c(?:up)?\\.? egg beaters', flags=re.IGNORECASE)\n",
    "\n",
    "# unit conversions\n",
    "re_vol_units = [re_cup, re_tbsp, re_tsp]\n",
    "vol_multipliers = [48, 3, 1] # the number of tsps in a cup, tbsp, and tsp (respectively)\n",
    "\n",
    "re_mass_units = [re_lb, re_oz, re_g, re_stick]\n",
    "mass_multipliers = [453.592, # grams in a lb\n",
    "                    28.35, # g in an ounce\n",
    "                    1, # g in a g\n",
    "                    113] # g in a stick of butter/margarine\n",
    "\n",
    "grams_in_a_tsp = {'flour': 2.5, \n",
    "                  'sugar': 4.167, \n",
    "                  'butter': 4.71, \n",
    "                  'vanilla extract': 4.92,\n",
    "                  'milk': 5.5,                   \n",
    "                  'evaporated milk': 5.25,\n",
    "                  'condensed milk': 6.38,\n",
    "                  'shortening': 4.1} # self-explanatory"
   ]
  },
  {
   "cell_type": "code",
   "execution_count": 2,
   "id": "7cd80b22",
   "metadata": {},
   "outputs": [
    {
     "name": "stdout",
     "output_type": "stream",
     "text": [
      "(235762, 4)\n"
     ]
    }
   ],
   "source": [
    "df = pd.read_csv(filepath_or_buffer=DATA_FILE, header=0)\n",
    "print(df.shape)"
   ]
  },
  {
   "cell_type": "code",
   "execution_count": 3,
   "id": "f949aa8f",
   "metadata": {},
   "outputs": [],
   "source": [
    "# convert string with fraction to float\n",
    "# e.g. \"3 1/2\" becomes 3.5\n",
    "\n",
    "def convert_to_float(s):\n",
    "    if ' ' in s:\n",
    "        p1, p2 = s.split(' ')\n",
    "        f = float(p1)\n",
    "        if '/' in p2:\n",
    "            numerator, denominator = p2.split('/')\n",
    "        else:\n",
    "            numerator, denominator = p2.split('\\\\')\n",
    "        f += (float(numerator) / float(denominator))\n",
    "        return f\n",
    "    elif '/' in s:\n",
    "        i = s.find('/')\n",
    "    elif '\\\\' in s:\n",
    "        i = s.find('\\\\')\n",
    "    else:\n",
    "        return float(s)\n",
    "    \n",
    "    return float(s[:i]) / float(s[i+1:])"
   ]
  },
  {
   "cell_type": "code",
   "execution_count": 29,
   "id": "2a448a27",
   "metadata": {},
   "outputs": [],
   "source": [
    "# qi = Quantified Ingredient\n",
    "# ing_string = string from recipe that we want to quantify\n",
    "def vol_convert(ing_string, qi):\n",
    "    for i in range(len(re_vol_units)):\n",
    "        search = re_vol_units[i].match(ing_string)\n",
    "        if search is not None:\n",
    "            return vol_multipliers[i] * grams_in_a_tsp[qi] * convert_to_float(search.group(1))\n",
    "    return 0\n",
    "\n",
    "def mass_convert(ing_string):\n",
    "    for i in range(len(re_mass_units)):\n",
    "        search = re_mass_units[i].match(ing_string)\n",
    "        if search is not None:\n",
    "            return mass_multipliers[i] * convert_to_float(search.group(1))\n",
    "    return 0\n",
    "\n",
    "def egg_convert(ing_string):\n",
    "    search = re_egg.match(ing_string)\n",
    "    if search is not None:\n",
    "        return convert_to_float(search.group(1))\n",
    "    else:\n",
    "        search = re_egg_beaters.match(ing_string)\n",
    "        if search is not None:\n",
    "            return 4 * convert_to_float(search.group(1))\n",
    "    return 0\n",
    "\n",
    "# extract quantities from an ingredient string\n",
    "def extract_quantities(ingredients):\n",
    "    \n",
    "    # initialize quantity dict, which will be returned\n",
    "    quantities = QUANTIFIED_INGREDIENTS.copy()\n",
    "    \n",
    "    # convert ingredient string into list\n",
    "    ing_list = ingredients.lower().split('\"')[1::2]\n",
    "    \n",
    "    # iterate through strings of recipe's ingredient list\n",
    "    for ing in ing_list:\n",
    "        # iterate through ingredients we are searching for\n",
    "        for k, v in quantities.items():\n",
    "            if v == 0 and k in ing:\n",
    "                \n",
    "                # Eggs are special for two reasons\n",
    "                # 1. They are discrete, unlike other ingredients\n",
    "                # 2. They sometimes come in the form of \"Egg Beaters\"\n",
    "                if k == 'egg':\n",
    "                    quantities['egg'] = egg_convert(ing)\n",
    "                else:\n",
    "                    if k == 'butter' and 'buttermilk' in ing:\n",
    "                        continue\n",
    "                    \n",
    "                    if k == 'milk' and ('evaporated' in ing or 'condensed' in ing):\n",
    "                        continue\n",
    "                    \n",
    "                    # quantify ingredient, in grams\n",
    "                    grams = vol_convert(ing, k)\n",
    "                    # if volume unit wasn't found, try mass instead\n",
    "                    if grams == 0:\n",
    "                        grams = mass_convert(ing)\n",
    "                    quantities[k] = grams                        \n",
    "                \n",
    "                # an ingredient has been found in this string and quantified,\n",
    "                # so we don't need to check for other ingredients in this string\n",
    "                break\n",
    "        \n",
    "    return quantities"
   ]
  },
  {
   "cell_type": "code",
   "execution_count": 39,
   "id": "9906c9e1",
   "metadata": {},
   "outputs": [
    {
     "data": {
      "text/plain": [
       "{'egg': 2.0,\n",
       " 'flour': 0,\n",
       " 'sugar': 453.592,\n",
       " 'butter': 0,\n",
       " 'vanilla extract': 0,\n",
       " 'milk': 0,\n",
       " 'evaporated milk': 0,\n",
       " 'condensed milk': 0,\n",
       " 'shortening': 0}"
      ]
     },
     "execution_count": 39,
     "metadata": {},
     "output_type": "execute_result"
    }
   ],
   "source": [
    "extract_quantities(df.iloc[8]['ingredients'])"
   ]
  },
  {
   "cell_type": "code",
   "execution_count": 11,
   "id": "6d3db68c",
   "metadata": {},
   "outputs": [
    {
     "data": {
      "text/plain": [
       "['1 Tbsp. Worcestershire sauce',\n",
       " '2 or 3 shakes Old Bay',\n",
       " '1 tsp. dry mustard',\n",
       " '2 Tbsp. mayonnaise',\n",
       " '1 egg']"
      ]
     },
     "execution_count": 11,
     "metadata": {},
     "output_type": "execute_result"
    }
   ],
   "source": [
    "df.iloc[6]['ingredients'].split('\"')[1::2]"
   ]
  },
  {
   "cell_type": "code",
   "execution_count": null,
   "id": "600a157e",
   "metadata": {},
   "outputs": [],
   "source": []
  }
 ],
 "metadata": {
  "kernelspec": {
   "display_name": "COGS118B_WI24",
   "language": "python",
   "name": "cogs118b_wi24"
  },
  "language_info": {
   "codemirror_mode": {
    "name": "ipython",
    "version": 3
   },
   "file_extension": ".py",
   "mimetype": "text/x-python",
   "name": "python",
   "nbconvert_exporter": "python",
   "pygments_lexer": "ipython3",
   "version": "3.9.5"
  }
 },
 "nbformat": 4,
 "nbformat_minor": 5
}
