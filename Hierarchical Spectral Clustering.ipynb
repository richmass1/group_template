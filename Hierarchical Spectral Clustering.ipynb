{
 "cells": [
  {
   "cell_type": "code",
   "execution_count": 2,
   "metadata": {},
   "outputs": [
    {
     "ename": "NameError",
     "evalue": "name 'umap_data' is not defined",
     "output_type": "error",
     "traceback": [
      "\u001b[1;31m---------------------------------------------------------------------------\u001b[0m",
      "\u001b[1;31mNameError\u001b[0m                                 Traceback (most recent call last)",
      "Cell \u001b[1;32mIn[2], line 73\u001b[0m\n\u001b[0;32m     71\u001b[0m hierarchical_labels \u001b[38;5;241m=\u001b[39m hierarchical_clustering(umap_data_3d)\n\u001b[0;32m     72\u001b[0m spectral_labels \u001b[38;5;241m=\u001b[39m spectral_clustering(umap_data_3d)\n\u001b[1;32m---> 73\u001b[0m spectral_labels \u001b[38;5;241m=\u001b[39m spectral_clustering(\u001b[43mumap_data\u001b[49m)\n",
      "\u001b[1;31mNameError\u001b[0m: name 'umap_data' is not defined"
     ]
    }
   ],
   "source": [
    "import pandas as pd\n",
    "import numpy as np\n",
    "import matplotlib.pyplot as plt\n",
    "import seaborn as sns\n",
    "from sklearn.cluster import AgglomerativeClustering, SpectralClustering\n",
    "from sklearn.preprocessing import StandardScaler\n",
    "from sklearn.decomposition import PCA\n",
    "from mpl_toolkits.mplot3d import Axes3D\n",
    "from umap import UMAP  \n",
    "import warnings\n",
    "\n",
    "warnings.filterwarnings(\"ignore\")\n",
    "\n",
    "def hierarchical_clustering(data, n_clusters=3):\n",
    "    hierarchical_cluster = AgglomerativeClustering(n_clusters=n_clusters)\n",
    "    cluster_labels = hierarchical_cluster.fit_predict(data)\n",
    "    return cluster_labels\n",
    "\n",
    "def spectral_clustering(data, n_clusters=3):\n",
    "    spectral_cluster = SpectralClustering(n_clusters=n_clusters, affinity='nearest_neighbors', n_neighbors=10, assign_labels='discretize', random_state=42)\n",
    "    cluster_labels = spectral_cluster.fit_predict(data)\n",
    "    return cluster_labels\n",
    "\n",
    "def visualize_clusters_2d(data, labels, title, feature_names):\n",
    "    plt.figure(figsize=(8, 6))\n",
    "    sns.scatterplot(x=data[:, 0], y=data[:, 1], hue=labels, palette='viridis', legend='full', alpha=0.7)\n",
    "    plt.title(title)\n",
    "    plt.xlabel(feature_names[0]) \n",
    "    plt.ylabel(feature_names[1])  \n",
    "    plt.legend(title='Cluster')\n",
    "    plt.show()\n",
    "\n",
    "def plot_clusters_3d_combined(data, labels, title, feature_names):\n",
    "    fig = plt.figure(figsize=(10, 8))\n",
    "    ax = fig.add_subplot(111, projection='3d')\n",
    "    for label in np.unique(labels):\n",
    "        idx = labels == label\n",
    "        ax.scatter(data[idx, 0], data[idx, 1], data[idx, 2], label=f'Cluster {label}')\n",
    "    ax.set_title(title)\n",
    "    ax.set_xlabel(feature_names[0])\n",
    "    ax.set_ylabel(feature_names[1])\n",
    "    ax.set_zlabel(feature_names[2])\n",
    "    ax.legend()\n",
    "    plt.show()\n",
    "\n",
    "dataf = 'ingredient_data.csv'\n",
    "df = pd.read_csv(dataf).dropna()\n",
    "\n",
    "sampled_data = df.sample(frac=0.1, random_state=42)\n",
    "scaler = StandardScaler()\n",
    "scaled_data = scaler.fit_transform(sampled_data.drop(columns='category'))\n",
    "\n",
    "hierarchical_labels = hierarchical_clustering(scaled_data)\n",
    "pca = PCA(n_components=2)\n",
    "pca_data = pca.fit_transform(scaled_data)\n",
    "feature_names_pca_2d = sampled_data.drop(columns='category').columns.tolist()[:2]\n",
    "spectral_labels = spectral_clustering(scaled_data)\n",
    "pca_3d = PCA(n_components=3)\n",
    "pca_data_3d = pca_3d.fit_transform(sampled_data.drop(columns='category'))\n",
    "feature_names_pca_3d = sampled_data.drop(columns='category').columns.tolist()[:4]\n",
    "hierarchical_labels_3d_pca = hierarchical_clustering(pca_data_3d)\n",
    "spectral_labels_3d_pca = spectral_clustering(pca_data_3d)\n",
    "umap_3d = UMAP(n_components=3, n_neighbors=15, min_dist=0.1)\n",
    "umap_data_3d = umap_3d.fit_transform(sampled_data.drop(columns='category'))\n",
    "feature_names_umap_3d = sampled_data.drop(columns='category').columns.tolist()[:5]\n",
    "hierarchical_labels_3d_umap = hierarchical_clustering(umap_data_3d)\n",
    "spectral_labels_3d_umap = spectral_clustering(umap_data_3d)\n",
    "umap_3d = UMAP(n_components=3, n_neighbors=15, min_dist=0.1)\n",
    "umap_data_3d = umap_3d.fit_transform(sampled_data.drop(columns='category'))\n",
    "feature_names_umap_3d = sampled_data.drop(columns='category').columns.tolist()\n",
    "hierarchical_labels = hierarchical_clustering(umap_data_3d)\n",
    "spectral_labels = spectral_clustering(umap_data_3d)\n",
    "spectral_labels = spectral_clustering(umap_data)"
   ]
  },
  {
   "cell_type": "code",
   "execution_count": null,
   "metadata": {},
   "outputs": [],
   "source": [
    "visualize_clusters_2d(pca_data, hierarchical_labels, 'Hierarchical Clustering (PCA)', feature_names_pca_2d)\n",
    "visualize_clusters_2d(pca_data, spectral_labels, 'Spectral Clustering (PCA)', feature_names_pca_2d)\n"
   ]
  },
  {
   "cell_type": "code",
   "execution_count": null,
   "metadata": {},
   "outputs": [],
   "source": [
    "plot_clusters_3d(umap_data_3d, spectral_labels, 'Spectral Clustering (UMAP)', feature_names_umap_3d)\n",
    "plot_clusters_3d(umap_data_3d, hierarchical_labels, 'Hierarchical Clustering (UMAP)', feature_names_umap_3d)"
   ]
  },
  {
   "cell_type": "code",
   "execution_count": null,
   "metadata": {},
   "outputs": [],
   "source": [
    "plot_clusters_3d_combined(pca_data_3d, hierarchical_labels_3d_pca, 'Hierarchical Clustering (PCA)', feature_names_pca_3d)\n",
    "plot_clusters_3d_combined(pca_data_3d, spectral_labels_3d_pca, 'Spectral Clustering (PCA)', feature_names_pca_3d)\n"
   ]
  },
  {
   "cell_type": "code",
   "execution_count": null,
   "metadata": {},
   "outputs": [],
   "source": [
    "plot_clusters_3d_combined(umap_data_3d, spectral_labels_3d_umap, 'Spectral Clustering (UMAP)', feature_names_umap_3d)\n",
    "plot_clusters_3d_combined(umap_data_3d, hierarchical_labels_3d_umap, 'Hierarchical Clustering (UMAP)', feature_names_umap_3d)"
   ]
  },
  {
   "cell_type": "code",
   "execution_count": null,
   "metadata": {},
   "outputs": [],
   "source": [
    "def prep(x):\n",
    "    other_columns = sampled_data.iloc[:, x:]\n",
    "    numeric_columns = other_columns.select_dtypes(include=['float64', 'int64'])\n",
    "    other_scaled_data = scaler.fit_transform(numeric_columns)   \n",
    "    pca_other = PCA(n_components=2)\n",
    "    pca_data_other = pca_other.fit_transform(other_scaled_data)\n",
    "    feature_names_pca_other = numeric_columns.columns.tolist()\n",
    "    hierarchical_labels_other = hierarchical_clustering(pca_data_other)\n",
    "    spectral_labels_other = spectral_clustering(pca_data_other)\n",
    "    visualize_clusters_2d(pca_data_other, hierarchical_labels_other, 'Hierarchical Clustering', feature_names_pca_other)\n",
    "    visualize_clusters_2d(pca_data_other, spectral_labels_other, 'Spectral Clustering', feature_names_pca_other)"
   ]
  },
  {
   "cell_type": "code",
   "execution_count": null,
   "metadata": {},
   "outputs": [],
   "source": [
    "prep(1)"
   ]
  },
  {
   "cell_type": "code",
   "execution_count": null,
   "metadata": {},
   "outputs": [],
   "source": [
    "prep(2)"
   ]
  },
  {
   "cell_type": "code",
   "execution_count": null,
   "metadata": {},
   "outputs": [],
   "source": [
    "prep(3)"
   ]
  },
  {
   "cell_type": "code",
   "execution_count": null,
   "metadata": {},
   "outputs": [],
   "source": [
    "prep(4)"
   ]
  },
  {
   "cell_type": "code",
   "execution_count": null,
   "metadata": {},
   "outputs": [],
   "source": [
    "prep(5)"
   ]
  },
  {
   "cell_type": "code",
   "execution_count": null,
   "metadata": {},
   "outputs": [],
   "source": [
    "prep(6)"
   ]
  },
  {
   "cell_type": "code",
   "execution_count": null,
   "metadata": {},
   "outputs": [],
   "source": [
    "prep(7)"
   ]
  },
  {
   "cell_type": "code",
   "execution_count": null,
   "metadata": {},
   "outputs": [],
   "source": [
    "prep(8)"
   ]
  },
  {
   "cell_type": "code",
   "execution_count": null,
   "metadata": {},
   "outputs": [],
   "source": [
    "prep(9)"
   ]
  },
  {
   "cell_type": "code",
   "execution_count": null,
   "metadata": {},
   "outputs": [],
   "source": [
    "prep(10)"
   ]
  }
 ],
 "metadata": {
  "kernelspec": {
   "display_name": "Python 3",
   "language": "python",
   "name": "python3"
  },
  "language_info": {
   "codemirror_mode": {
    "name": "ipython",
    "version": 3
   },
   "file_extension": ".py",
   "mimetype": "text/x-python",
   "name": "python",
   "nbconvert_exporter": "python",
   "pygments_lexer": "ipython3",
   "version": "3.12.0"
  }
 },
 "nbformat": 4,
 "nbformat_minor": 2
}
