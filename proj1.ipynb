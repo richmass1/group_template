{
 "cells": [
  {
   "cell_type": "markdown",
   "id": "1a434534",
   "metadata": {},
   "source": [
    "## Extract `RecipeNLG_bg_only.csv` from zip file before running this code\n",
    "\n",
    "Place it in the same directory as this notebook."
   ]
  },
  {
   "cell_type": "code",
   "execution_count": 77,
   "id": "c17b4b28",
   "metadata": {},
   "outputs": [],
   "source": [
    "import pandas as pd\n",
    "import re\n",
    "DATA_FILE = 'RecipeNLG_bg_only.csv'\n",
    "\n",
    "# list of ingredients that will be quantified\n",
    "QUANTIFIED_INGREDIENTS = {'flour': 0, 'sugar': 0, 'butter': 0}\n",
    "\n",
    "# regex objects\n",
    "re_cup = re.compile('^([0-9\\/ ]*[0-9]) c\\.? ', flags=re.IGNORECASE)\n",
    "re_tbsp = re.compile('^([0-9\\/ ]*[0-9]) tbsps?\\.? ', flags=re.IGNORECASE)\n",
    "re_tsp = re.compile('^([0-9\\/ ]*[0-9]) tsps?\\.? ', flags=re.IGNORECASE)\n",
    "re_lb = re.compile('^([0-9\\/ ]*[0-9]) lbs?\\.? ', flags=re.IGNORECASE)\n",
    "re_g = re.compile('^([0-9\\/ ]*[0-9]) g(?:ram)?s?\\.? ', flags=re.IGNORECASE)\n",
    "\n",
    "re_vol_units = [re_cup, re_tbsp, re_tsp]\n",
    "re_mass_units = [re_lb, re_g]\n",
    "\n",
    "# unit conversions\n",
    "vol_multipliers = [48, 3, 1]\n",
    "grams_in_a_tsp = {'flour': 2.5, 'sugar': 4.167, 'butter': 4.72917}"
   ]
  },
  {
   "cell_type": "code",
   "execution_count": 5,
   "id": "7cd80b22",
   "metadata": {},
   "outputs": [
    {
     "name": "stdout",
     "output_type": "stream",
     "text": [
      "(2231142, 7)\n"
     ]
    }
   ],
   "source": [
    "df = pd.read_csv(filepath_or_buffer=DATA_FILE, header=0)\n",
    "print(df.shape)"
   ]
  },
  {
   "cell_type": "code",
   "execution_count": 24,
   "id": "f949aa8f",
   "metadata": {},
   "outputs": [],
   "source": [
    "# convert string with fraction to float\n",
    "# e.g. \"3 1/2\" becomes 3.5\n",
    "def convert_to_float(s):\n",
    "    if ' ' in s:\n",
    "        p1, p2 = s.split(' ')\n",
    "        f = float(p1)\n",
    "        if '/' in p2:\n",
    "            numerator, denominator = p2.split('/')\n",
    "        else:\n",
    "            numerator, denominator = p2.split('\\\\')\n",
    "        f += (float(numerator) / float(denominator))\n",
    "        return f\n",
    "    elif '/' in s:\n",
    "        i = s.find('/')\n",
    "    elif '\\\\' in s:\n",
    "        i = s.find('\\\\')\n",
    "    else:\n",
    "        return float(s)\n",
    "    \n",
    "    return float(s[:i]) / float(s[i+1:])"
   ]
  },
  {
   "cell_type": "code",
   "execution_count": 75,
   "id": "2a448a27",
   "metadata": {},
   "outputs": [],
   "source": [
    "# extract quantities from an ingredient string\n",
    "\n",
    "def extract_quantities(ingredients):\n",
    "    # initialize quantity dict\n",
    "    quantities = QUANTIFIED_INGREDIENTS.copy()\n",
    "    \n",
    "    # convert ingredient string into list\n",
    "    ing_list = ingredients.split('\"')[1::2]\n",
    "    \n",
    "    # iterate through ingredient list\n",
    "    for ing in ing_list:\n",
    "        # iterate through ingredients we are searching for\n",
    "        for k, v in quantities.items():\n",
    "            if v == 0 and k in ing:\n",
    "                # iterate through units of volume\n",
    "                for i in range(len(re_vol_units)):\n",
    "                    search = re_vol_units[i].match(ing)\n",
    "                    if search is not None:\n",
    "                        quantities[k] = vol_multipliers[i] * grams_in_a_tsp[k] * convert_to_float(search.group(1))\n",
    "                        break\n",
    "                \n",
    "                if quantities[k] == 0:\n",
    "                    for i in range(len(re_mass_units))\n",
    "    \n",
    "    return quantities"
   ]
  },
  {
   "cell_type": "code",
   "execution_count": 78,
   "id": "9906c9e1",
   "metadata": {},
   "outputs": [
    {
     "data": {
      "text/plain": [
       "{'flour': 240.0, 'sugar': 300.024, 'butter': 113.50008}"
      ]
     },
     "execution_count": 78,
     "metadata": {},
     "output_type": "execute_result"
    }
   ],
   "source": [
    "extract_quantities(df.iloc[6]['ingredients'])"
   ]
  },
  {
   "cell_type": "code",
   "execution_count": 36,
   "id": "6d3db68c",
   "metadata": {},
   "outputs": [
    {
     "data": {
      "text/plain": [
       "['1 1/2 c. sugar',\n",
       " '1/2 c. butter',\n",
       " '1 egg',\n",
       " '1 c. buttermilk',\n",
       " '2 c. flour',\n",
       " '1/2 tsp. salt',\n",
       " '1 tsp. soda',\n",
       " '1 c. buttermilk',\n",
       " '2 c. rhubarb, finely cut',\n",
       " '1 tsp. vanilla']"
      ]
     },
     "execution_count": 36,
     "metadata": {},
     "output_type": "execute_result"
    }
   ],
   "source": [
    "df.iloc[6]['ingredients'].split('\"')[1::2]"
   ]
  },
  {
   "cell_type": "code",
   "execution_count": null,
   "id": "385ae6ec",
   "metadata": {},
   "outputs": [],
   "source": []
  }
 ],
 "metadata": {
  "kernelspec": {
   "display_name": "COGS118B_WI24",
   "language": "python",
   "name": "cogs118b_wi24"
  },
  "language_info": {
   "codemirror_mode": {
    "name": "ipython",
    "version": 3
   },
   "file_extension": ".py",
   "mimetype": "text/x-python",
   "name": "python",
   "nbconvert_exporter": "python",
   "pygments_lexer": "ipython3",
   "version": "3.9.5"
  }
 },
 "nbformat": 4,
 "nbformat_minor": 5
}
